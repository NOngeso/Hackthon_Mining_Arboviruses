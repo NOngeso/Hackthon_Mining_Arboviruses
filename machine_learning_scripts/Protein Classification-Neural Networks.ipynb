{
 "cells": [
  {
   "cell_type": "code",
   "execution_count": 5,
   "metadata": {},
   "outputs": [],
   "source": [
    "# 1. importing necessary libraries\n",
    "import pandas as pd# fro preparing dataframe\n",
    "import numpy as np\n",
    "import matplotlib.pyplot as plt # for visualizing clusters\n",
    "from matplotlib import style\n",
    "style.use(\"ggplot\") # choosing the style for visualising clusters\n",
    "from scipy.cluster.hierarchy import linkage,dendrogram #descriptive analytic \n",
    "from sklearn.cluster import KMeans #Descriptive analytic algorithm\n",
    "from sklearn import preprocessing # for preparing data\n",
    "from sklearn.preprocessing import Normalizer # For Normalizing data\n",
    "from numpy import set_printoptions # for limiting number decimals\n",
    "from sklearn.decomposition import PCA # for reducing attributes\n",
    "from sklearn.model_selection import train_test_split\n"
   ]
  },
  {
   "cell_type": "code",
   "execution_count": 6,
   "metadata": {},
   "outputs": [
    {
     "name": "stdout",
     "output_type": "stream",
     "text": [
      "      Molecular_Weight   Gravity  Aromaticity  Instability  Isoelectic_Point  \\\n",
      "0           93323.4594 -0.213571     0.075000    33.803119          5.995056   \n",
      "1           27949.8955 -0.740000     0.077551    48.864980          4.799377   \n",
      "2           17453.7134 -0.450327     0.098039    37.247124          6.489685   \n",
      "3           35268.1468 -0.009366     0.063444    30.649245          8.177429   \n",
      "4           25718.5138 -0.406912     0.142857    36.475576          8.082214   \n",
      "5          120634.5465 -0.098273     0.088182    34.071391          6.960754   \n",
      "6          250774.6466 -0.300983     0.082700    40.815919          5.869080   \n",
      "7           36569.4096 -0.055917     0.082840    19.513609          7.596985   \n",
      "8           25318.1366 -0.447727     0.081818    37.295909          8.694397   \n",
      "9           48297.1855 -0.343678     0.071264    33.785310          8.733215   \n",
      "10          42137.1258 -0.597855     0.107239    44.941019          6.640320   \n",
      "11          58065.7220  0.008534     0.025974    36.706122          8.237488   \n",
      "12          16341.0380 -0.317089     0.031646    17.428481          6.482849   \n",
      "13          33219.9612 -0.600000     0.094077    33.946725          4.859436   \n",
      "14         122943.1471 -0.599912     0.063717    52.134345          8.797913   \n",
      "15          21898.8698 -0.076119     0.084577    47.526368          6.146667   \n",
      "16          11006.3533 -0.677551     0.081633    22.532653          5.381409   \n",
      "17          38628.8645 -0.003039     0.049724    31.969890          5.093323   \n",
      "18          38753.1242 -0.441369     0.110119    39.405357          9.241882   \n",
      "19          35537.1575 -0.203537     0.115756    27.675595          5.232727   \n",
      "20          34582.6007 -0.087459     0.099010    42.583531          7.625671   \n",
      "21          78735.5332 -0.370597     0.056818    41.267060          7.674866   \n",
      "22          17931.1049 -0.440127     0.089172    51.863057          6.475037   \n",
      "23          40572.7769 -0.497222     0.066667    54.905000          6.199280   \n",
      "24          47250.7644 -0.175346     0.064516    42.966129          6.183533   \n",
      "25          28960.0173 -0.586486     0.104247    30.166409          6.519714   \n",
      "26          80005.5000 -0.425286     0.107143    41.548729          4.917419   \n",
      "27         137415.6898 -0.225518     0.080365    43.039031          5.435608   \n",
      "28          64148.8643 -0.220280     0.082168    39.732360          5.789490   \n",
      "29         249235.0952 -0.311002     0.077370    48.303676          8.509827   \n",
      "...                ...       ...          ...          ...               ...   \n",
      "1445        32200.5311 -0.946853     0.048951    41.974476          4.289856   \n",
      "1446       100280.6297 -0.511250     0.089773    48.752739          6.644714   \n",
      "1447        47262.0882 -0.482911     0.052743    56.732911          6.872620   \n",
      "1448        70191.2588 -0.813756     0.043277    54.817496          9.326233   \n",
      "1449        64551.2677 -0.329401     0.093310    44.222905          7.947693   \n",
      "1450        68510.3554 -0.567395     0.053042    41.667239          7.029114   \n",
      "1451       167713.9547 -1.075627     0.033208    58.539919          8.218079   \n",
      "1452       126980.4633 -0.108860     0.078070    38.454921          5.140808   \n",
      "1453        16280.2646 -1.671212     0.068182   176.922727         12.029114   \n",
      "1454       135740.1172 -0.390607     0.092269    38.801837          7.561218   \n",
      "1455        65838.6424 -0.397083     0.061588    69.249773          9.704407   \n",
      "1456        43239.2891 -1.273421     0.055263    51.984474          9.358215   \n",
      "1457        57506.1524 -0.535359     0.079190    75.689687          8.505554   \n",
      "1458       150879.7794 -0.606100     0.058824    53.412869          8.892639   \n",
      "1459       110978.0475 -0.611782     0.059416    67.647855          6.908508   \n",
      "1460        72977.1360 -0.666921     0.099085    47.089497          6.049744   \n",
      "1461        37606.2130 -0.788855     0.081325    48.954518          5.444397   \n",
      "1462        74784.4435 -0.879795     0.045388    45.388726          6.196960   \n",
      "1463         8277.6267 -0.272857     0.085714    51.754286          7.653137   \n",
      "1464        41238.5969 -0.754701     0.085470    49.542735          6.137878   \n",
      "1465        36990.2056 -1.058187     0.070175    64.677485          9.945374   \n",
      "1466        31361.8728 -0.461348     0.070922    48.692553          4.740173   \n",
      "1467        27871.7699 -1.063750     0.091667    81.784208          9.093567   \n",
      "1468        24425.1972 -0.667111     0.022222    51.563556          7.973328   \n",
      "1469        79774.1660 -0.908745     0.062059    56.718054          8.861389   \n",
      "1470        81748.5311 -1.143912     0.046512    40.067579          4.860535   \n",
      "1471        29119.2670 -0.536111     0.099206    58.509921          5.039734   \n",
      "1472        43108.0134 -0.869110     0.070681    55.936911          6.387146   \n",
      "1473        11475.8364 -1.390909     0.080808    58.290909          9.895569   \n",
      "1474        13916.1114 -0.434127     0.039683    25.568254         10.327454   \n",
      "\n",
      "     Compartment  \n",
      "0        Cytosol  \n",
      "1        Cytosol  \n",
      "2        Cytosol  \n",
      "3        Cytosol  \n",
      "4        Cytosol  \n",
      "5        Cytosol  \n",
      "6        Cytosol  \n",
      "7        Cytosol  \n",
      "8        Cytosol  \n",
      "9        Cytosol  \n",
      "10       Cytosol  \n",
      "11       Cytosol  \n",
      "12       Cytosol  \n",
      "13       Cytosol  \n",
      "14       Cytosol  \n",
      "15       Cytosol  \n",
      "16       Cytosol  \n",
      "17       Cytosol  \n",
      "18       Cytosol  \n",
      "19       Cytosol  \n",
      "20       Cytosol  \n",
      "21       Cytosol  \n",
      "22       Cytosol  \n",
      "23       Cytosol  \n",
      "24       Cytosol  \n",
      "25       Cytosol  \n",
      "26       Cytosol  \n",
      "27       Cytosol  \n",
      "28       Cytosol  \n",
      "29       Cytosol  \n",
      "...          ...  \n",
      "1445     Nucleus  \n",
      "1446     Nucleus  \n",
      "1447     Nucleus  \n",
      "1448     Nucleus  \n",
      "1449     Nucleus  \n",
      "1450     Nucleus  \n",
      "1451     Nucleus  \n",
      "1452     Nucleus  \n",
      "1453     Nucleus  \n",
      "1454     Nucleus  \n",
      "1455     Nucleus  \n",
      "1456     Nucleus  \n",
      "1457     Nucleus  \n",
      "1458     Nucleus  \n",
      "1459     Nucleus  \n",
      "1460     Nucleus  \n",
      "1461     Nucleus  \n",
      "1462     Nucleus  \n",
      "1463     Nucleus  \n",
      "1464     Nucleus  \n",
      "1465     Nucleus  \n",
      "1466     Nucleus  \n",
      "1467     Nucleus  \n",
      "1468     Nucleus  \n",
      "1469     Nucleus  \n",
      "1470     Nucleus  \n",
      "1471     Nucleus  \n",
      "1472     Nucleus  \n",
      "1473     Nucleus  \n",
      "1474     Nucleus  \n",
      "\n",
      "[1475 rows x 6 columns]\n"
     ]
    }
   ],
   "source": [
    "# 2. #extracting data\n",
    "path='C:/Users/User/Desktop/Data/datafinale.csv'\n",
    "attributes=['Molecular_Weight','Gravity','Aromaticity','Instability','Isoelectic_Point','Compartment']\n",
    "data=pd.read_csv(path, names=attributes)\n",
    "print(data)"
   ]
  },
  {
   "cell_type": "code",
   "execution_count": 7,
   "metadata": {},
   "outputs": [
    {
     "name": "stdout",
     "output_type": "stream",
     "text": [
      "       Molecular_Weight      Gravity  Aromaticity  Instability  \\\n",
      "count        1475.00000  1475.000000  1475.000000  1475.000000   \n",
      "mean        58000.18511    -0.505198     0.074698    47.049551   \n",
      "std         47394.06149     0.360483     0.027155    17.962127   \n",
      "min          5966.91840    -2.657143     0.000000    -6.006803   \n",
      "25%         29681.29515    -0.687294     0.057268    37.276526   \n",
      "50%         46481.27160    -0.473278     0.073846    44.776744   \n",
      "75%         71091.88025    -0.281112     0.090040    54.921842   \n",
      "max        538812.43550     1.224138     0.227586   296.409091   \n",
      "\n",
      "       Isoelectic_Point  \n",
      "count       1475.000000  \n",
      "mean           7.311856  \n",
      "std            1.839831  \n",
      "min            3.605530  \n",
      "25%            5.760193  \n",
      "50%            6.895813  \n",
      "75%            8.871643  \n",
      "max           13.366028  \n"
     ]
    }
   ],
   "source": [
    "# 3. Understanding Data\n",
    "print(data.describe())"
   ]
  },
  {
   "cell_type": "code",
   "execution_count": 8,
   "metadata": {},
   "outputs": [
    {
     "name": "stdout",
     "output_type": "stream",
     "text": [
      "Training Set\n",
      "Testing Sample\n"
     ]
    }
   ],
   "source": [
    "# 4. Split Input and Output Features\n",
    "TrainingSample,TestSample=train_test_split(data, test_size=0.3, random_state=2 ) #default is 25% starts at row number 2\n",
    "print (\"Training Set\")\n",
    "#print(TrainingSample)\n",
    "print(\"Testing Sample\")\n",
    "#print(TestSample)"
   ]
  },
  {
   "cell_type": "code",
   "execution_count": 9,
   "metadata": {
    "scrolled": false
   },
   "outputs": [
    {
     "name": "stdout",
     "output_type": "stream",
     "text": [
      "Input Variables of Training Data\n",
      "Output Variables of Training Data\n"
     ]
    }
   ],
   "source": [
    "# 5. Splitting Input and Output Variables\n",
    "# Slice the input variables Data\n",
    "Training_InputVariables=TrainingSample.values[:,0:5]\n",
    "\n",
    "# Slice the Output Variable Data\n",
    "Training_OutputVariable=TrainingSample.values[:,5]\n",
    "print(\"Input Variables of Training Data\")\n",
    "#print (Training_InputVariables)\n",
    "print(\"Output Variables of Training Data\")\n",
    "#print (Training_OutputVariable)"
   ]
  },
  {
   "cell_type": "code",
   "execution_count": 10,
   "metadata": {},
   "outputs": [
    {
     "name": "stdout",
     "output_type": "stream",
     "text": [
      "Input Variables of Test Data\n",
      "Output Variables of Test Data\n"
     ]
    }
   ],
   "source": [
    "# 6. Splitting Test Input and Output Variables\n",
    "# Slice the input variables Data\n",
    "Test_InputVariables=TestSample.values[:,0:5]\n",
    "\n",
    "# Slice the Output Variable Data\n",
    "Test_OutputVariable=TestSample.values[:,5]\n",
    "print(\"Input Variables of Test Data\")\n",
    "#print (Test_InputVariables)\n",
    "print(\"Output Variables of Test Data\")\n",
    "#print (Test_OutputVariable)"
   ]
  },
  {
   "cell_type": "code",
   "execution_count": 11,
   "metadata": {},
   "outputs": [],
   "source": [
    "#conda install nb_conda"
   ]
  },
  {
   "cell_type": "code",
   "execution_count": 12,
   "metadata": {},
   "outputs": [
    {
     "name": "stderr",
     "output_type": "stream",
     "text": [
      "Using TensorFlow backend.\n"
     ]
    },
    {
     "ename": "ImportError",
     "evalue": "Traceback (most recent call last):\n  File \"C:\\Users\\User\\Anaconda3\\lib\\site-packages\\tensorflow\\python\\pywrap_tensorflow.py\", line 58, in <module>\n    from tensorflow.python.pywrap_tensorflow_internal import *\n  File \"C:\\Users\\User\\Anaconda3\\lib\\site-packages\\tensorflow\\python\\pywrap_tensorflow_internal.py\", line 28, in <module>\n    _pywrap_tensorflow_internal = swig_import_helper()\n  File \"C:\\Users\\User\\Anaconda3\\lib\\site-packages\\tensorflow\\python\\pywrap_tensorflow_internal.py\", line 24, in swig_import_helper\n    _mod = imp.load_module('_pywrap_tensorflow_internal', fp, pathname, description)\n  File \"C:\\Users\\User\\Anaconda3\\lib\\imp.py\", line 242, in load_module\n    return load_dynamic(name, filename, file)\n  File \"C:\\Users\\User\\Anaconda3\\lib\\imp.py\", line 342, in load_dynamic\n    return _load(spec)\nImportError: DLL load failed: The specified module could not be found.\n\n\nFailed to load the native TensorFlow runtime.\n\nSee https://www.tensorflow.org/install/errors\n\nfor some common reasons and solutions.  Include the entire stack trace\nabove this error message when asking for help.",
     "output_type": "error",
     "traceback": [
      "\u001b[1;31m---------------------------------------------------------------------------\u001b[0m",
      "\u001b[1;31mImportError\u001b[0m                               Traceback (most recent call last)",
      "\u001b[1;32m~\\Anaconda3\\lib\\site-packages\\tensorflow\\python\\pywrap_tensorflow.py\u001b[0m in \u001b[0;36m<module>\u001b[1;34m\u001b[0m\n\u001b[0;32m     57\u001b[0m \u001b[1;33m\u001b[0m\u001b[0m\n\u001b[1;32m---> 58\u001b[1;33m   \u001b[1;32mfrom\u001b[0m \u001b[0mtensorflow\u001b[0m\u001b[1;33m.\u001b[0m\u001b[0mpython\u001b[0m\u001b[1;33m.\u001b[0m\u001b[0mpywrap_tensorflow_internal\u001b[0m \u001b[1;32mimport\u001b[0m \u001b[1;33m*\u001b[0m\u001b[1;33m\u001b[0m\u001b[1;33m\u001b[0m\u001b[0m\n\u001b[0m\u001b[0;32m     59\u001b[0m   \u001b[1;32mfrom\u001b[0m \u001b[0mtensorflow\u001b[0m\u001b[1;33m.\u001b[0m\u001b[0mpython\u001b[0m\u001b[1;33m.\u001b[0m\u001b[0mpywrap_tensorflow_internal\u001b[0m \u001b[1;32mimport\u001b[0m \u001b[0m__version__\u001b[0m\u001b[1;33m\u001b[0m\u001b[1;33m\u001b[0m\u001b[0m\n",
      "\u001b[1;32m~\\Anaconda3\\lib\\site-packages\\tensorflow\\python\\pywrap_tensorflow_internal.py\u001b[0m in \u001b[0;36m<module>\u001b[1;34m\u001b[0m\n\u001b[0;32m     27\u001b[0m             \u001b[1;32mreturn\u001b[0m \u001b[0m_mod\u001b[0m\u001b[1;33m\u001b[0m\u001b[1;33m\u001b[0m\u001b[0m\n\u001b[1;32m---> 28\u001b[1;33m     \u001b[0m_pywrap_tensorflow_internal\u001b[0m \u001b[1;33m=\u001b[0m \u001b[0mswig_import_helper\u001b[0m\u001b[1;33m(\u001b[0m\u001b[1;33m)\u001b[0m\u001b[1;33m\u001b[0m\u001b[1;33m\u001b[0m\u001b[0m\n\u001b[0m\u001b[0;32m     29\u001b[0m     \u001b[1;32mdel\u001b[0m \u001b[0mswig_import_helper\u001b[0m\u001b[1;33m\u001b[0m\u001b[1;33m\u001b[0m\u001b[0m\n",
      "\u001b[1;32m~\\Anaconda3\\lib\\site-packages\\tensorflow\\python\\pywrap_tensorflow_internal.py\u001b[0m in \u001b[0;36mswig_import_helper\u001b[1;34m()\u001b[0m\n\u001b[0;32m     23\u001b[0m             \u001b[1;32mtry\u001b[0m\u001b[1;33m:\u001b[0m\u001b[1;33m\u001b[0m\u001b[1;33m\u001b[0m\u001b[0m\n\u001b[1;32m---> 24\u001b[1;33m                 \u001b[0m_mod\u001b[0m \u001b[1;33m=\u001b[0m \u001b[0mimp\u001b[0m\u001b[1;33m.\u001b[0m\u001b[0mload_module\u001b[0m\u001b[1;33m(\u001b[0m\u001b[1;34m'_pywrap_tensorflow_internal'\u001b[0m\u001b[1;33m,\u001b[0m \u001b[0mfp\u001b[0m\u001b[1;33m,\u001b[0m \u001b[0mpathname\u001b[0m\u001b[1;33m,\u001b[0m \u001b[0mdescription\u001b[0m\u001b[1;33m)\u001b[0m\u001b[1;33m\u001b[0m\u001b[1;33m\u001b[0m\u001b[0m\n\u001b[0m\u001b[0;32m     25\u001b[0m             \u001b[1;32mfinally\u001b[0m\u001b[1;33m:\u001b[0m\u001b[1;33m\u001b[0m\u001b[1;33m\u001b[0m\u001b[0m\n",
      "\u001b[1;32m~\\Anaconda3\\lib\\imp.py\u001b[0m in \u001b[0;36mload_module\u001b[1;34m(name, file, filename, details)\u001b[0m\n\u001b[0;32m    241\u001b[0m         \u001b[1;32melse\u001b[0m\u001b[1;33m:\u001b[0m\u001b[1;33m\u001b[0m\u001b[1;33m\u001b[0m\u001b[0m\n\u001b[1;32m--> 242\u001b[1;33m             \u001b[1;32mreturn\u001b[0m \u001b[0mload_dynamic\u001b[0m\u001b[1;33m(\u001b[0m\u001b[0mname\u001b[0m\u001b[1;33m,\u001b[0m \u001b[0mfilename\u001b[0m\u001b[1;33m,\u001b[0m \u001b[0mfile\u001b[0m\u001b[1;33m)\u001b[0m\u001b[1;33m\u001b[0m\u001b[1;33m\u001b[0m\u001b[0m\n\u001b[0m\u001b[0;32m    243\u001b[0m     \u001b[1;32melif\u001b[0m \u001b[0mtype_\u001b[0m \u001b[1;33m==\u001b[0m \u001b[0mPKG_DIRECTORY\u001b[0m\u001b[1;33m:\u001b[0m\u001b[1;33m\u001b[0m\u001b[1;33m\u001b[0m\u001b[0m\n",
      "\u001b[1;32m~\\Anaconda3\\lib\\imp.py\u001b[0m in \u001b[0;36mload_dynamic\u001b[1;34m(name, path, file)\u001b[0m\n\u001b[0;32m    341\u001b[0m             name=name, loader=loader, origin=path)\n\u001b[1;32m--> 342\u001b[1;33m         \u001b[1;32mreturn\u001b[0m \u001b[0m_load\u001b[0m\u001b[1;33m(\u001b[0m\u001b[0mspec\u001b[0m\u001b[1;33m)\u001b[0m\u001b[1;33m\u001b[0m\u001b[1;33m\u001b[0m\u001b[0m\n\u001b[0m\u001b[0;32m    343\u001b[0m \u001b[1;33m\u001b[0m\u001b[0m\n",
      "\u001b[1;31mImportError\u001b[0m: DLL load failed: The specified module could not be found.",
      "\nDuring handling of the above exception, another exception occurred:\n",
      "\u001b[1;31mImportError\u001b[0m                               Traceback (most recent call last)",
      "\u001b[1;32m<ipython-input-12-4f4aa2948b7a>\u001b[0m in \u001b[0;36m<module>\u001b[1;34m\u001b[0m\n\u001b[0;32m      8\u001b[0m \u001b[1;31m#import tensorflow as tf\u001b[0m\u001b[1;33m\u001b[0m\u001b[1;33m\u001b[0m\u001b[1;33m\u001b[0m\u001b[0m\n\u001b[0;32m      9\u001b[0m \u001b[1;33m\u001b[0m\u001b[0m\n\u001b[1;32m---> 10\u001b[1;33m \u001b[1;32mfrom\u001b[0m \u001b[0mkeras\u001b[0m\u001b[1;33m.\u001b[0m\u001b[0mmodels\u001b[0m \u001b[1;32mimport\u001b[0m \u001b[0mSequential\u001b[0m\u001b[1;33m\u001b[0m\u001b[1;33m\u001b[0m\u001b[0m\n\u001b[0m\u001b[0;32m     11\u001b[0m \u001b[1;32mfrom\u001b[0m \u001b[0mkeras\u001b[0m\u001b[1;33m.\u001b[0m\u001b[0mlayers\u001b[0m \u001b[1;32mimport\u001b[0m \u001b[0mDense\u001b[0m\u001b[1;33m\u001b[0m\u001b[1;33m\u001b[0m\u001b[0m\n\u001b[0;32m     12\u001b[0m \u001b[1;32mimport\u001b[0m \u001b[0mnumpy\u001b[0m\u001b[1;33m\u001b[0m\u001b[1;33m\u001b[0m\u001b[0m\n",
      "\u001b[1;32m~\\Anaconda3\\lib\\site-packages\\keras\\__init__.py\u001b[0m in \u001b[0;36m<module>\u001b[1;34m\u001b[0m\n\u001b[0;32m      1\u001b[0m \u001b[1;32mfrom\u001b[0m \u001b[0m__future__\u001b[0m \u001b[1;32mimport\u001b[0m \u001b[0mabsolute_import\u001b[0m\u001b[1;33m\u001b[0m\u001b[1;33m\u001b[0m\u001b[0m\n\u001b[0;32m      2\u001b[0m \u001b[1;33m\u001b[0m\u001b[0m\n\u001b[1;32m----> 3\u001b[1;33m \u001b[1;32mfrom\u001b[0m \u001b[1;33m.\u001b[0m \u001b[1;32mimport\u001b[0m \u001b[0mutils\u001b[0m\u001b[1;33m\u001b[0m\u001b[1;33m\u001b[0m\u001b[0m\n\u001b[0m\u001b[0;32m      4\u001b[0m \u001b[1;32mfrom\u001b[0m \u001b[1;33m.\u001b[0m \u001b[1;32mimport\u001b[0m \u001b[0mactivations\u001b[0m\u001b[1;33m\u001b[0m\u001b[1;33m\u001b[0m\u001b[0m\n\u001b[0;32m      5\u001b[0m \u001b[1;32mfrom\u001b[0m \u001b[1;33m.\u001b[0m \u001b[1;32mimport\u001b[0m \u001b[0mapplications\u001b[0m\u001b[1;33m\u001b[0m\u001b[1;33m\u001b[0m\u001b[0m\n",
      "\u001b[1;32m~\\Anaconda3\\lib\\site-packages\\keras\\utils\\__init__.py\u001b[0m in \u001b[0;36m<module>\u001b[1;34m\u001b[0m\n\u001b[0;32m      4\u001b[0m \u001b[1;32mfrom\u001b[0m \u001b[1;33m.\u001b[0m \u001b[1;32mimport\u001b[0m \u001b[0mdata_utils\u001b[0m\u001b[1;33m\u001b[0m\u001b[1;33m\u001b[0m\u001b[0m\n\u001b[0;32m      5\u001b[0m \u001b[1;32mfrom\u001b[0m \u001b[1;33m.\u001b[0m \u001b[1;32mimport\u001b[0m \u001b[0mio_utils\u001b[0m\u001b[1;33m\u001b[0m\u001b[1;33m\u001b[0m\u001b[0m\n\u001b[1;32m----> 6\u001b[1;33m \u001b[1;32mfrom\u001b[0m \u001b[1;33m.\u001b[0m \u001b[1;32mimport\u001b[0m \u001b[0mconv_utils\u001b[0m\u001b[1;33m\u001b[0m\u001b[1;33m\u001b[0m\u001b[0m\n\u001b[0m\u001b[0;32m      7\u001b[0m \u001b[1;33m\u001b[0m\u001b[0m\n\u001b[0;32m      8\u001b[0m \u001b[1;31m# Globally-importable utils.\u001b[0m\u001b[1;33m\u001b[0m\u001b[1;33m\u001b[0m\u001b[1;33m\u001b[0m\u001b[0m\n",
      "\u001b[1;32m~\\Anaconda3\\lib\\site-packages\\keras\\utils\\conv_utils.py\u001b[0m in \u001b[0;36m<module>\u001b[1;34m\u001b[0m\n\u001b[0;32m      7\u001b[0m \u001b[1;32mfrom\u001b[0m \u001b[0msix\u001b[0m\u001b[1;33m.\u001b[0m\u001b[0mmoves\u001b[0m \u001b[1;32mimport\u001b[0m \u001b[0mrange\u001b[0m\u001b[1;33m\u001b[0m\u001b[1;33m\u001b[0m\u001b[0m\n\u001b[0;32m      8\u001b[0m \u001b[1;32mimport\u001b[0m \u001b[0mnumpy\u001b[0m \u001b[1;32mas\u001b[0m \u001b[0mnp\u001b[0m\u001b[1;33m\u001b[0m\u001b[1;33m\u001b[0m\u001b[0m\n\u001b[1;32m----> 9\u001b[1;33m \u001b[1;32mfrom\u001b[0m \u001b[1;33m.\u001b[0m\u001b[1;33m.\u001b[0m \u001b[1;32mimport\u001b[0m \u001b[0mbackend\u001b[0m \u001b[1;32mas\u001b[0m \u001b[0mK\u001b[0m\u001b[1;33m\u001b[0m\u001b[1;33m\u001b[0m\u001b[0m\n\u001b[0m\u001b[0;32m     10\u001b[0m \u001b[1;33m\u001b[0m\u001b[0m\n\u001b[0;32m     11\u001b[0m \u001b[1;33m\u001b[0m\u001b[0m\n",
      "\u001b[1;32m~\\Anaconda3\\lib\\site-packages\\keras\\backend\\__init__.py\u001b[0m in \u001b[0;36m<module>\u001b[1;34m\u001b[0m\n\u001b[0;32m     87\u001b[0m \u001b[1;32melif\u001b[0m \u001b[0m_BACKEND\u001b[0m \u001b[1;33m==\u001b[0m \u001b[1;34m'tensorflow'\u001b[0m\u001b[1;33m:\u001b[0m\u001b[1;33m\u001b[0m\u001b[1;33m\u001b[0m\u001b[0m\n\u001b[0;32m     88\u001b[0m     \u001b[0msys\u001b[0m\u001b[1;33m.\u001b[0m\u001b[0mstderr\u001b[0m\u001b[1;33m.\u001b[0m\u001b[0mwrite\u001b[0m\u001b[1;33m(\u001b[0m\u001b[1;34m'Using TensorFlow backend.\\n'\u001b[0m\u001b[1;33m)\u001b[0m\u001b[1;33m\u001b[0m\u001b[1;33m\u001b[0m\u001b[0m\n\u001b[1;32m---> 89\u001b[1;33m     \u001b[1;32mfrom\u001b[0m \u001b[1;33m.\u001b[0m\u001b[0mtensorflow_backend\u001b[0m \u001b[1;32mimport\u001b[0m \u001b[1;33m*\u001b[0m\u001b[1;33m\u001b[0m\u001b[1;33m\u001b[0m\u001b[0m\n\u001b[0m\u001b[0;32m     90\u001b[0m \u001b[1;32melse\u001b[0m\u001b[1;33m:\u001b[0m\u001b[1;33m\u001b[0m\u001b[1;33m\u001b[0m\u001b[0m\n\u001b[0;32m     91\u001b[0m     \u001b[1;31m# Try and load external backend.\u001b[0m\u001b[1;33m\u001b[0m\u001b[1;33m\u001b[0m\u001b[1;33m\u001b[0m\u001b[0m\n",
      "\u001b[1;32m~\\Anaconda3\\lib\\site-packages\\keras\\backend\\tensorflow_backend.py\u001b[0m in \u001b[0;36m<module>\u001b[1;34m\u001b[0m\n\u001b[0;32m      3\u001b[0m \u001b[1;32mfrom\u001b[0m \u001b[0m__future__\u001b[0m \u001b[1;32mimport\u001b[0m \u001b[0mprint_function\u001b[0m\u001b[1;33m\u001b[0m\u001b[1;33m\u001b[0m\u001b[0m\n\u001b[0;32m      4\u001b[0m \u001b[1;33m\u001b[0m\u001b[0m\n\u001b[1;32m----> 5\u001b[1;33m \u001b[1;32mimport\u001b[0m \u001b[0mtensorflow\u001b[0m \u001b[1;32mas\u001b[0m \u001b[0mtf\u001b[0m\u001b[1;33m\u001b[0m\u001b[1;33m\u001b[0m\u001b[0m\n\u001b[0m\u001b[0;32m      6\u001b[0m \u001b[1;32mfrom\u001b[0m \u001b[0mtensorflow\u001b[0m\u001b[1;33m.\u001b[0m\u001b[0mpython\u001b[0m\u001b[1;33m.\u001b[0m\u001b[0mframework\u001b[0m \u001b[1;32mimport\u001b[0m \u001b[0mops\u001b[0m \u001b[1;32mas\u001b[0m \u001b[0mtf_ops\u001b[0m\u001b[1;33m\u001b[0m\u001b[1;33m\u001b[0m\u001b[0m\n\u001b[0;32m      7\u001b[0m \u001b[1;32mfrom\u001b[0m \u001b[0mtensorflow\u001b[0m\u001b[1;33m.\u001b[0m\u001b[0mpython\u001b[0m\u001b[1;33m.\u001b[0m\u001b[0mtraining\u001b[0m \u001b[1;32mimport\u001b[0m \u001b[0mmoving_averages\u001b[0m\u001b[1;33m\u001b[0m\u001b[1;33m\u001b[0m\u001b[0m\n",
      "\u001b[1;32m~\\Anaconda3\\lib\\site-packages\\tensorflow\\__init__.py\u001b[0m in \u001b[0;36m<module>\u001b[1;34m\u001b[0m\n\u001b[0;32m     22\u001b[0m \u001b[1;33m\u001b[0m\u001b[0m\n\u001b[0;32m     23\u001b[0m \u001b[1;31m# pylint: disable=g-bad-import-order\u001b[0m\u001b[1;33m\u001b[0m\u001b[1;33m\u001b[0m\u001b[1;33m\u001b[0m\u001b[0m\n\u001b[1;32m---> 24\u001b[1;33m \u001b[1;32mfrom\u001b[0m \u001b[0mtensorflow\u001b[0m\u001b[1;33m.\u001b[0m\u001b[0mpython\u001b[0m \u001b[1;32mimport\u001b[0m \u001b[0mpywrap_tensorflow\u001b[0m  \u001b[1;31m# pylint: disable=unused-import\u001b[0m\u001b[1;33m\u001b[0m\u001b[1;33m\u001b[0m\u001b[0m\n\u001b[0m\u001b[0;32m     25\u001b[0m \u001b[1;33m\u001b[0m\u001b[0m\n\u001b[0;32m     26\u001b[0m \u001b[1;32mfrom\u001b[0m \u001b[0mtensorflow\u001b[0m\u001b[1;33m.\u001b[0m\u001b[0m_api\u001b[0m\u001b[1;33m.\u001b[0m\u001b[0mv1\u001b[0m \u001b[1;32mimport\u001b[0m \u001b[0mapp\u001b[0m\u001b[1;33m\u001b[0m\u001b[1;33m\u001b[0m\u001b[0m\n",
      "\u001b[1;32m~\\Anaconda3\\lib\\site-packages\\tensorflow\\python\\__init__.py\u001b[0m in \u001b[0;36m<module>\u001b[1;34m\u001b[0m\n\u001b[0;32m     47\u001b[0m \u001b[1;32mimport\u001b[0m \u001b[0mnumpy\u001b[0m \u001b[1;32mas\u001b[0m \u001b[0mnp\u001b[0m\u001b[1;33m\u001b[0m\u001b[1;33m\u001b[0m\u001b[0m\n\u001b[0;32m     48\u001b[0m \u001b[1;33m\u001b[0m\u001b[0m\n\u001b[1;32m---> 49\u001b[1;33m \u001b[1;32mfrom\u001b[0m \u001b[0mtensorflow\u001b[0m\u001b[1;33m.\u001b[0m\u001b[0mpython\u001b[0m \u001b[1;32mimport\u001b[0m \u001b[0mpywrap_tensorflow\u001b[0m\u001b[1;33m\u001b[0m\u001b[1;33m\u001b[0m\u001b[0m\n\u001b[0m\u001b[0;32m     50\u001b[0m \u001b[1;33m\u001b[0m\u001b[0m\n\u001b[0;32m     51\u001b[0m \u001b[1;31m# Protocol buffers\u001b[0m\u001b[1;33m\u001b[0m\u001b[1;33m\u001b[0m\u001b[1;33m\u001b[0m\u001b[0m\n",
      "\u001b[1;32m~\\Anaconda3\\lib\\site-packages\\tensorflow\\python\\pywrap_tensorflow.py\u001b[0m in \u001b[0;36m<module>\u001b[1;34m\u001b[0m\n\u001b[0;32m     72\u001b[0m \u001b[1;32mfor\u001b[0m \u001b[0msome\u001b[0m \u001b[0mcommon\u001b[0m \u001b[0mreasons\u001b[0m \u001b[1;32mand\u001b[0m \u001b[0msolutions\u001b[0m\u001b[1;33m.\u001b[0m  \u001b[0mInclude\u001b[0m \u001b[0mthe\u001b[0m \u001b[0mentire\u001b[0m \u001b[0mstack\u001b[0m \u001b[0mtrace\u001b[0m\u001b[1;33m\u001b[0m\u001b[1;33m\u001b[0m\u001b[0m\n\u001b[0;32m     73\u001b[0m above this error message when asking for help.\"\"\" % traceback.format_exc()\n\u001b[1;32m---> 74\u001b[1;33m   \u001b[1;32mraise\u001b[0m \u001b[0mImportError\u001b[0m\u001b[1;33m(\u001b[0m\u001b[0mmsg\u001b[0m\u001b[1;33m)\u001b[0m\u001b[1;33m\u001b[0m\u001b[1;33m\u001b[0m\u001b[0m\n\u001b[0m\u001b[0;32m     75\u001b[0m \u001b[1;33m\u001b[0m\u001b[0m\n\u001b[0;32m     76\u001b[0m \u001b[1;31m# pylint: enable=wildcard-import,g-import-not-at-top,unused-import,line-too-long\u001b[0m\u001b[1;33m\u001b[0m\u001b[1;33m\u001b[0m\u001b[1;33m\u001b[0m\u001b[0m\n",
      "\u001b[1;31mImportError\u001b[0m: Traceback (most recent call last):\n  File \"C:\\Users\\User\\Anaconda3\\lib\\site-packages\\tensorflow\\python\\pywrap_tensorflow.py\", line 58, in <module>\n    from tensorflow.python.pywrap_tensorflow_internal import *\n  File \"C:\\Users\\User\\Anaconda3\\lib\\site-packages\\tensorflow\\python\\pywrap_tensorflow_internal.py\", line 28, in <module>\n    _pywrap_tensorflow_internal = swig_import_helper()\n  File \"C:\\Users\\User\\Anaconda3\\lib\\site-packages\\tensorflow\\python\\pywrap_tensorflow_internal.py\", line 24, in swig_import_helper\n    _mod = imp.load_module('_pywrap_tensorflow_internal', fp, pathname, description)\n  File \"C:\\Users\\User\\Anaconda3\\lib\\imp.py\", line 242, in load_module\n    return load_dynamic(name, filename, file)\n  File \"C:\\Users\\User\\Anaconda3\\lib\\imp.py\", line 342, in load_dynamic\n    return _load(spec)\nImportError: DLL load failed: The specified module could not be found.\n\n\nFailed to load the native TensorFlow runtime.\n\nSee https://www.tensorflow.org/install/errors\n\nfor some common reasons and solutions.  Include the entire stack trace\nabove this error message when asking for help."
     ]
    }
   ],
   "source": [
    "# 6. Fitting Neural Networks\n",
    "# We have preprocessed the data and we are now ready to build the neural network.\n",
    "# Using keras to build our neural network. \n",
    "# We import the keras library to create the neural network layers.\n",
    "# There are two main types of models available in keras — Sequential and Model.\n",
    "# we will use Sequential model to build our neural network.\n",
    "# We use Dense library to build input, hidden and output layers of a neural network.\n",
    "#import tensorflow as tf\n",
    "\n",
    "from keras.models import Sequential\n",
    "from keras.layers import Dense\n",
    "import numpy\n"
   ]
  },
  {
   "cell_type": "code",
   "execution_count": null,
   "metadata": {},
   "outputs": [],
   "source": [
    "\n",
    "classifier = Model()\n",
    "#First Hidden Layer\n",
    "classifier.add(Dense(4, activation='relu', kernel_initializer='random_normal', input_dim=8))\n",
    "#Second  Hidden Layer\n",
    "classifier.add(Dense(4, activation='relu', kernel_initializer='random_normal'))\n",
    "#Output Layer\n",
    "classifier.add(Dense(1, activation='sigmoid', kernel_initializer='random_normal'))"
   ]
  },
  {
   "cell_type": "code",
   "execution_count": null,
   "metadata": {},
   "outputs": [],
   "source": [
    "#Compiling the neural network\n",
    "classifier.compile(optimizer ='adam',loss='binary_crossentropy', metrics =['accuracy'])"
   ]
  },
  {
   "cell_type": "code",
   "execution_count": null,
   "metadata": {},
   "outputs": [],
   "source": [
    "#Fitting the data to the training dataset\n",
    "classifier.fit(Training_InputVariables,Training_OutputVariable, batch_size=10, epochs=100)"
   ]
  },
  {
   "cell_type": "code",
   "execution_count": null,
   "metadata": {},
   "outputs": [],
   "source": [
    "# Evaluating Loss and accuracy of the model\n",
    "eval_model=classifier.evaluate(Training_InputVariables, Training_OutputVariable)\n",
    "eval_model"
   ]
  },
  {
   "cell_type": "code",
   "execution_count": null,
   "metadata": {},
   "outputs": [],
   "source": [
    "#We now predict the output for our test dataset. \n",
    "# If the prediction is greater than 0.5 then the output is 1 else the output is 0\n",
    "Output_pred=classifier.predict(Test_InputVariables)\n",
    "Output_pred =(Output_pred>0.5)"
   ]
  },
  {
   "cell_type": "code",
   "execution_count": null,
   "metadata": {},
   "outputs": [],
   "source": [
    "# Now is the moment of truth. \n",
    "# We check the accuracy on the test dataset\n",
    "from sklearn.metrics import confusion_matrix\n",
    "cm= confusion_matrix(y_test, y_pred)\n",
    "print(Confusion Matrix)\n",
    "print(cm)"
   ]
  },
  {
   "cell_type": "code",
   "execution_count": null,
   "metadata": {},
   "outputs": [],
   "source": [
    "#15. Splitting The Independent/Input Variables in Unknown Data Set\n",
    "Unknown_InputVariables=unknowndata.values[:,0:5]\n",
    "print(Unknown_InputVariables)"
   ]
  }
 ],
 "metadata": {
  "kernelspec": {
   "display_name": "Python 3",
   "language": "python",
   "name": "python3"
  },
  "language_info": {
   "codemirror_mode": {
    "name": "ipython",
    "version": 3
   },
   "file_extension": ".py",
   "mimetype": "text/x-python",
   "name": "python",
   "nbconvert_exporter": "python",
   "pygments_lexer": "ipython3",
   "version": "3.7.3"
  }
 },
 "nbformat": 4,
 "nbformat_minor": 2
}
